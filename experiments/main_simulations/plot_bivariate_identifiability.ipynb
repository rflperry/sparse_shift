{
 "cells": [
  {
   "cell_type": "code",
   "execution_count": 1,
   "id": "e77f2ff1",
   "metadata": {},
   "outputs": [],
   "source": [
    "import numpy as np\n",
    "import matplotlib.pyplot as plt\n",
    "import seaborn as sns\n",
    "import pandas as pd"
   ]
  },
  {
   "cell_type": "code",
   "execution_count": 2,
   "id": "20888230",
   "metadata": {},
   "outputs": [],
   "source": [
    "SAVE_FIGURES = False\n",
    "RESULTS_DIR = './results_paper'"
   ]
  },
  {
   "cell_type": "code",
   "execution_count": 3,
   "id": "7f4d6638",
   "metadata": {},
   "outputs": [],
   "source": [
    "EXPERIMENT = 'bivariate_power'\n",
    "TAG = '_paper'\n",
    "df1 = pd.read_csv(f'{RESULTS_DIR}/{EXPERIMENT}_results{TAG}.csv', sep=', ', engine='python')\n",
    "df1['Experiment'] = 'Additive'\n",
    "\n",
    "EXPERIMENT = 'bivariate_multiplic_power'\n",
    "TAG = ''\n",
    "df2 = pd.read_csv(f'{RESULTS_DIR}/{EXPERIMENT}_results{TAG}.csv', sep=', ', engine='python')\n",
    "df1['Experiment'] = 'Multiplic.'\n",
    "\n",
    "df = pd.concat([df1, df2])"
   ]
  },
  {
   "cell_type": "code",
   "execution_count": 4,
   "id": "38545d8b",
   "metadata": {},
   "outputs": [],
   "source": [
    "plot_df = df\n",
    "\n",
    "x_var_rename_dict = {\n",
    "    'sample_size': '# Samples',\n",
    "    'Number of environments': '# Environments',\n",
    "    'Fraction of shifting mechanisms': 'Shift fraction',\n",
    "    'dag_density': 'Edge density',\n",
    "    'n_variables': '# Variables',\n",
    "}\n",
    "\n",
    "plot_df = df.rename(\n",
    "        x_var_rename_dict, axis=1\n",
    "    ).rename(\n",
    "        {'Method': 'Test', 'Soft': 'Score'}, axis=1\n",
    "    ).replace(\n",
    "        {\n",
    "            'er': 'Erdos-Renyi',\n",
    "            'ba': 'Hub',\n",
    "            'PC (pool all)': 'Full PC (oracle)',\n",
    "            'Full PC (KCI)': r'Pooled PC (KCI) [25]',\n",
    "            'Min changes (oracle)': 'MSS (oracle)',\n",
    "            'Min changes (KCI)': 'MSS (KCI)',\n",
    "            'Min changes (GAM)': 'MSS (GAM)',\n",
    "            'Min changes (Linear)': 'MSS (Linear)',\n",
    "            'Min changes (FisherZ)': 'MSS (FisherZ)',\n",
    "            'MC': r'MC [11]',\n",
    "            False: 'Hard',\n",
    "            True: 'Soft',\n",
    "        }\n",
    ")\n",
    "\n",
    "plot_df = plot_df.loc[\n",
    "    (~plot_df['Test'].isin(['Full PC (oracle)', 'MSS (oracle)'])) &\n",
    "    (plot_df['# Environments'] == 2) &\n",
    "    (plot_df['Score'] == 'Hard')\n",
    "]\n",
    "\n",
    "plot_df = plot_df.replace({\n",
    "    '[[];[0]]': 'P(X1)',\n",
    "    '[[];[1]]': 'P(X2|X1)',\n",
    "    '[[];[]]': 'Neither',\n",
    "    '[[];[0;1]]': 'Both',\n",
    "})"
   ]
  },
  {
   "cell_type": "code",
   "execution_count": 5,
   "id": "9ebf02b7",
   "metadata": {},
   "outputs": [
    {
     "data": {
      "image/png": "[encoded data removed]",
      "text/plain": [
       "<Figure size 540x180 with 4 Axes>"
      ]
     },
     "metadata": {
      "needs_background": "light"
     },
     "output_type": "display_data"
    }
   ],
   "source": [
    "sns.set_context('paper')\n",
    "fig, axes = plt.subplots(1, 4, sharey=True, sharex=True, figsize=(7.5, 2.5))\n",
    "\n",
    "intv_targets = ['P(X1)', 'P(X2|X1)', 'Neither', 'Both']\n",
    "ax_var = 'intervention_targets'\n",
    "x_var = 'Precision' # 'False orientation rate' # \n",
    "y_var = 'Recall' # 'True orientation rate'# \n",
    "hue = 'Test'\n",
    "\n",
    "for targets, ax in zip(intv_targets, axes.flatten()):\n",
    "    mean_df = plot_df[plot_df[ax_var] == targets].groupby('Test').mean().reset_index()\n",
    "    std_df = plot_df[plot_df[ax_var] == targets].groupby('Test')[['Precision', 'Recall']].std().reset_index()\n",
    "    std_df.rename(\n",
    "        {'Precision': 'Precision std', 'Recall': 'Recall std'}, axis=1\n",
    "    )\n",
    "    \n",
    "    g = sns.scatterplot(\n",
    "        data=plot_df[plot_df[ax_var] == targets].groupby('Test').mean().reset_index(),\n",
    "        x=x_var,\n",
    "        y=y_var,\n",
    "        hue=hue,\n",
    "        ax=ax,\n",
    "        palette=[\n",
    "            sns.color_palette(\"tab10\")[i]\n",
    "            for i in [2, 3, 4, 5, 7, 6] # 3, 4, 5, \n",
    "        ],\n",
    "        hue_order=[\n",
    "            'MSS (KCI)',\n",
    "            'MSS (GAM)',\n",
    "            'MSS (FisherZ)',\n",
    "            'MSS (Linear)',\n",
    "            'Pooled PC (KCI) [25]',\n",
    "            'MC [11]',\n",
    "        ],\n",
    "        legend='full',\n",
    "        s=100\n",
    "    )\n",
    "    ax.set_title(f'Shift in {targets}')\n",
    "    \n",
    "plt.legend(bbox_to_anchor=(1.05, 1), loc=2, borderaxespad=0.)\n",
    "for ax in axes[:-1]:\n",
    "    ax.get_legend().remove()\n",
    "plt.tight_layout()\n",
    "if SAVE_FIGURES:\n",
    "    plt.savefig('./figures/bivariate_power_plots.pdf')\n",
    "plt.show()"
   ]
  },
  {
   "cell_type": "markdown",
   "id": "4bda6734",
   "metadata": {},
   "source": [
    "## multiplicative"
   ]
  },
  {
   "cell_type": "code",
   "execution_count": 7,
   "id": "8a885723",
   "metadata": {},
   "outputs": [],
   "source": [
    "EXPERIMENT = 'bivariate_multiplic_power'\n",
    "TAG = ''\n",
    "df = pd.read_csv(f'{RESULTS_DIR}/{EXPERIMENT}_results{TAG}.csv', sep=', ', engine='python')"
   ]
  },
  {
   "cell_type": "code",
   "execution_count": 8,
   "id": "dc4a794e",
   "metadata": {},
   "outputs": [],
   "source": [
    "plot_df = df\n",
    "\n",
    "x_var_rename_dict = {\n",
    "    'sample_size': '# Samples',\n",
    "    'Number of environments': '# Environments',\n",
    "    'Fraction of shifting mechanisms': 'Shift fraction',\n",
    "    'dag_density': 'Edge density',\n",
    "    'n_variables': '# Variables',\n",
    "}\n",
    "\n",
    "plot_df = df.rename(\n",
    "        x_var_rename_dict, axis=1\n",
    "    ).rename(\n",
    "        {'Method': 'Test', 'Soft': 'Score'}, axis=1\n",
    "    ).replace(\n",
    "        {\n",
    "            'er': 'Erdos-Renyi',\n",
    "            'ba': 'Hub',\n",
    "            'PC (pool all)': 'Full PC (oracle)',\n",
    "            'Full PC (KCI)': r'Pooled PC (KCI) [25]',\n",
    "            'Min changes (oracle)': 'MSS (oracle)',\n",
    "            'Min changes (KCI)': 'MSS (KCI)',\n",
    "            'Min changes (GAM)': 'MSS (GAM)',\n",
    "            'Min changes (Linear)': 'MSS (Linear)',\n",
    "            'Min changes (FisherZ)': 'MSS (FisherZ)',\n",
    "            'MC': r'MC [11]',\n",
    "            False: 'Hard',\n",
    "            True: 'Soft',\n",
    "        }\n",
    ")\n",
    "\n",
    "plot_df = plot_df.loc[\n",
    "    (~plot_df['Test'].isin(['Full PC (oracle)', 'MSS (oracle)'])) &\n",
    "    (plot_df['# Environments'] == 2) &\n",
    "    (plot_df['Score'] == 'Hard')\n",
    "]\n",
    "\n",
    "plot_df = plot_df.replace({\n",
    "    '[[];[0]]': 'P(X1)',\n",
    "    '[[];[1]]': 'P(X2|X1)',\n",
    "    '[[];[]]': 'Neither',\n",
    "    '[[];[0;1]]': 'Both',\n",
    "})"
   ]
  },
  {
   "cell_type": "code",
   "execution_count": 9,
   "id": "a1cce329",
   "metadata": {},
   "outputs": [
    {
     "data": {
      "image/png": "[encoded data removed]",
      "text/plain": [
       "<Figure size 540x180 with 4 Axes>"
      ]
     },
     "metadata": {
      "needs_background": "light"
     },
     "output_type": "display_data"
    }
   ],
   "source": [
    "sns.set_context('paper')\n",
    "fig, axes = plt.subplots(1, 4, sharey=True, sharex=True, figsize=(7.5, 2.5))\n",
    "\n",
    "intv_targets = ['P(X1)', 'P(X2|X1)', 'Neither', 'Both']\n",
    "ax_var = 'intervention_targets'\n",
    "x_var = 'Precision' # 'False orientation rate' # \n",
    "y_var = 'Recall' # 'True orientation rate'# \n",
    "hue = 'Test'\n",
    "\n",
    "for targets, ax in zip(intv_targets, axes.flatten()):\n",
    "    mean_df = plot_df[plot_df[ax_var] == targets].groupby('Test').mean().reset_index()\n",
    "    std_df = plot_df[plot_df[ax_var] == targets].groupby('Test')[['Precision', 'Recall']].std().reset_index()\n",
    "    std_df.rename(\n",
    "        {'Precision': 'Precision std', 'Recall': 'Recall std'}, axis=1\n",
    "    )\n",
    "    \n",
    "    g = sns.scatterplot(\n",
    "        data=plot_df[plot_df[ax_var] == targets].groupby('Test').mean().reset_index(),\n",
    "        x=x_var,\n",
    "        y=y_var,\n",
    "        hue=hue,\n",
    "        ax=ax,\n",
    "        palette=[\n",
    "            sns.color_palette(\"tab10\")[i]\n",
    "            for i in [2, 3, 4, 5, 7, 6] # 3, 4, 5, \n",
    "        ],\n",
    "        hue_order=[\n",
    "            'MSS (KCI)',\n",
    "            'MSS (GAM)',\n",
    "            'MSS (FisherZ)',\n",
    "            'MSS (Linear)',\n",
    "            'Pooled PC (KCI) [25]',\n",
    "            'MC [11]',\n",
    "        ],\n",
    "        legend='full',\n",
    "        s=100\n",
    "    )\n",
    "    ax.set_title(f'Shift in {targets}')\n",
    "    \n",
    "plt.legend(bbox_to_anchor=(1.05, 1), loc=2, borderaxespad=0.)\n",
    "for ax in axes[:-1]:\n",
    "    ax.get_legend().remove()\n",
    "plt.tight_layout()\n",
    "if SAVE_FIGURES:\n",
    "    plt.savefig('./figures/bivariate_multiplic_power_plots.pdf')\n",
    "plt.show()"
   ]
  }
 ],
 "metadata": {
  "kernelspec": {
   "display_name": "Python (causal)",
   "language": "python",
   "name": "causal"
  },
  "language_info": {
   "codemirror_mode": {
    "name": "ipython",
    "version": 3
   },
   "file_extension": ".py",
   "mimetype": "text/x-python",
   "name": "python",
   "nbconvert_exporter": "python",
   "pygments_lexer": "ipython3",
   "version": "3.8.13"
  }
 },
 "nbformat": 4,
 "nbformat_minor": 5
}
