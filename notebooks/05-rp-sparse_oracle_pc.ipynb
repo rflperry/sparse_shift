{
 "cells": [
  {
   "cell_type": "code",
   "execution_count": 1,
   "metadata": {},
   "outputs": [],
   "source": [
    "import numpy as np\n",
    "import pandas as pd\n",
    "import seaborn as sns\n",
    "import matplotlib.pyplot as plt"
   ]
  },
  {
   "cell_type": "markdown",
   "metadata": {},
   "source": [
    "# Experiment\n",
    "\n",
    "We asume the triangle DAG with edges\n",
    "1. X1 -> X2\n",
    "2. X2 -> X3\n",
    "3. X1 -> X3\n",
    "\n",
    "which we know up to its Markov equivalence class but obtain natural interventions on variables with some degree of sparsity.\n",
    "\n",
    "We begin with a domain of the original graph, then sample additional domans with some number of interventions. We either then pool all together, or consider pairwise pooling taking the union across pools."
   ]
  },
  {
   "cell_type": "code",
   "execution_count": 2,
   "metadata": {},
   "outputs": [],
   "source": [
    "# Meeks rules giving the oritentations are commented above\n",
    "intervention_dict = {\n",
    "    # 2 v-structures\n",
    "    (1,): [1, 3],\n",
    "    # 2 v-structure, acyclic\n",
    "    (2,): [1, 2, 3],\n",
    "    # 2 v-structures\n",
    "    (3,): [2, 3],\n",
    "    # 2 v-structures\n",
    "    (1, 2): [2, 3],\n",
    "    # 2 v-structures\n",
    "    (2, 3): [1, 3],\n",
    "    # 2 v-structures, acyclic\n",
    "    (1, 3): [1, 2, 3],\n",
    "    # Nothing\n",
    "    (1, 2, 3): [],\n",
    "}"
   ]
  },
  {
   "cell_type": "code",
   "execution_count": 3,
   "metadata": {},
   "outputs": [],
   "source": [
    "class FullPC:\n",
    "    def __init__(self):\n",
    "        self.domains_ = []\n",
    "        self.interv_edges_ = set()\n",
    "        \n",
    "    def add_domain(self, interventions):\n",
    "        self.interv_edges_.update(interventions)\n",
    "        self.domains_.append(interventions)\n",
    "        \n",
    "    def get_learned_edges(self):\n",
    "        if len(self.domains_) == 1:\n",
    "            return []\n",
    "        else:\n",
    "            return intervention_dict[tuple(sorted(self.interv_edges_))]\n",
    "    \n",
    "class PairwisePC:\n",
    "    def __init__(self):\n",
    "        self.domains_ = []\n",
    "        self.learned_edges_ = []\n",
    "\n",
    "    def add_domain(self, interventions):        \n",
    "        for prior_domain in self.domains_:\n",
    "            self.learned_edges_.append(intervention_dict[tuple(\n",
    "                sorted(np.unique(np.hstack((prior_domain, interventions))))\n",
    "            )])\n",
    "        \n",
    "        self.domains_.append(interventions)\n",
    "        \n",
    "    def get_learned_edges(self):\n",
    "        if len(self.domains_) == 1:\n",
    "            return []\n",
    "        else:\n",
    "            return np.unique(np.hstack(self.learned_edges_)).astype(int)"
   ]
  },
  {
   "cell_type": "code",
   "execution_count": 4,
   "metadata": {},
   "outputs": [
    {
     "name": "stdout",
     "output_type": "stream",
     "text": [
      "Pairwise\n",
      "[]\n",
      "[1 3]\n",
      "Full\n",
      "[]\n",
      "[1, 3]\n"
     ]
    }
   ],
   "source": [
    "print('Pairwise')\n",
    "fpc = PairwisePC()\n",
    "fpc.add_domain([2])\n",
    "print(fpc.get_learned_edges())\n",
    "fpc.add_domain([3])\n",
    "print(fpc.get_learned_edges())\n",
    "\n",
    "print('Full')\n",
    "fpc = FullPC()\n",
    "fpc.add_domain([2])\n",
    "print(fpc.get_learned_edges())\n",
    "fpc.add_domain([3])\n",
    "print(fpc.get_learned_edges())"
   ]
  },
  {
   "cell_type": "markdown",
   "metadata": {},
   "source": [
    "## Experiments"
   ]
  },
  {
   "cell_type": "code",
   "execution_count": 5,
   "metadata": {},
   "outputs": [],
   "source": [
    "results_mat = []\n",
    "n_environments = 15\n",
    "n_reps = 200\n",
    "\n",
    "for rep in range(n_reps):\n",
    "    for sparsity in [1, 2, 3]:\n",
    "        fpc = FullPC()    \n",
    "        ppc = PairwisePC()\n",
    "        for n_env in range(1, n_environments+1):\n",
    "            interventions = tuple(np.random.choice([1, 2, 3], sparsity, replace=False))\n",
    "            fpc.add_domain(interventions)\n",
    "            ppc.add_domain(interventions)\n",
    "            results_mat.append([\n",
    "                rep, 'Full PC', sparsity, n_env, len(fpc.get_learned_edges())\n",
    "            ])\n",
    "            results_mat.append([\n",
    "                rep, 'Pairwise PC', sparsity, n_env, len(ppc.get_learned_edges())\n",
    "            ])"
   ]
  },
  {
   "cell_type": "code",
   "execution_count": 6,
   "metadata": {},
   "outputs": [],
   "source": [
    "df = pd.DataFrame(\n",
    "    results_mat,\n",
    "    columns=['Rep', 'Method', 'Sparsity', 'Number of environments', 'Learned edges'])\n",
    "\n",
    "df['Fraction edges learned'] = df['Learned edges'] / 3"
   ]
  },
  {
   "cell_type": "code",
   "execution_count": 22,
   "metadata": {},
   "outputs": [
    {
     "data": {
      "image/png": "[encoded data removed]",
      "text/plain": [
       "<Figure size 288x216 with 1 Axes>"
      ]
     },
     "metadata": {
      "needs_background": "light"
     },
     "output_type": "display_data"
    }
   ],
   "source": [
    "plt.figure(figsize=(4, 3))\n",
    "sns.lineplot(\n",
    "    data=df,\n",
    "    x='Number of environments',\n",
    "    y='Fraction edges learned',\n",
    "    hue='Method',\n",
    "    style='Sparsity',\n",
    "    ci=None,\n",
    "    # palette='gist_heat'\n",
    ")\n",
    "plt.title('Sparse shifts can provide identifiability')\n",
    "plt.xticks([1, 2, 5, 10, 15])\n",
    "plt.tight_layout()\n",
    "plt.savefig('./figures/pairwise_oracle_pc_simulation.pdf')\n",
    "plt.show()"
   ]
  },
  {
   "cell_type": "markdown",
   "metadata": {},
   "source": [
    "## Causal dag tools"
   ]
  },
  {
   "cell_type": "code",
   "execution_count": 13,
   "metadata": {},
   "outputs": [],
   "source": [
    "from causaldag import DAG, PDAG"
   ]
  },
  {
   "cell_type": "code",
   "execution_count": 114,
   "metadata": {},
   "outputs": [],
   "source": [
    "def dag2cpdag(adj, targets=None):\n",
    "    \"\"\"Converts an adjacency matrix to the cpdag adjacency matrix, with potential interventions\"\"\"\n",
    "    dag = DAG().from_amat(adj)\n",
    "    cpdag = dag.cpdag()\n",
    "    if targets is None:\n",
    "        return cpdag.to_amat()[0]\n",
    "    else:\n",
    "        return dag.interventional_cpdag(\n",
    "                [targets], cpdag=cpdag\n",
    "            ).to_amat()[0]\n",
    "\n",
    "def cpdag2dags(adj):\n",
    "    \"\"\"Converts a cpdag adjacency matrix to a list of all dags\"\"\"\n",
    "    adj = np.asarray(adj)\n",
    "    dags_elist = list(PDAG().from_amat(adj).all_dags())\n",
    "    dags = []\n",
    "    for elist in dags_elist:\n",
    "        G = np.zeros((3, 3))\n",
    "        elist = np.asarray(list(elist))\n",
    "        G[elist[:, 0], elist[:, 1]] = 1\n",
    "        dags.append(G)\n",
    "    \n",
    "    return dags\n",
    "\n",
    "# def intervene_on_cpdag(adj, targets=[]):\n",
    "#     cpdag = "
   ]
  },
  {
   "cell_type": "code",
   "execution_count": 223,
   "metadata": {},
   "outputs": [],
   "source": [
    "class FullPC:\n",
    "    def __init__(self, dag):\n",
    "        self.domains_ = []\n",
    "        self.interv_targets_ = set()\n",
    "        self.dag = dag  # adj matrix\n",
    "        \n",
    "    def add_domain(self, interventions):\n",
    "        self.interv_targets_.update(interventions)\n",
    "        self.domains_.append(interventions)\n",
    "        \n",
    "    def get_mec_dags(self):\n",
    "        if len(self.domains_) == 1:\n",
    "            return cpdag2dags(dag2cpdag(self.dag))\n",
    "        else:\n",
    "            intv_cpdag = dag2cpdag(self.dag, list(self.interv_targets_))\n",
    "            return cpdag2dags(intv_cpdag)\n",
    "    \n",
    "    def get_mec_cpdag(self):\n",
    "        if len(self.domains_) == 1:\n",
    "            return dag2cpdag(self.dag)\n",
    "        else:\n",
    "            intv_cpdag = dag2cpdag(self.dag, list(self.interv_targets_))\n",
    "            return intv_cpdag\n",
    "    \n",
    "class PairwisePC:\n",
    "    def __init__(self, dag):\n",
    "        self.interv_targets_ = []\n",
    "        self.dag = dag  # adj matrix\n",
    "        self.union_cpdag_ = np.zeros(dag.shape)\n",
    "\n",
    "    def add_domain(self, interventions):        \n",
    "        for prior_targets in self.interv_targets_:\n",
    "            pairwise_targets = np.unique(np.hstack((prior_targets, interventions)))\n",
    "            intv_cpdag = dag2cpdag(self.dag, pairwise_targets)\n",
    "            self.union_cpdag_ += intv_cpdag\n",
    "        \n",
    "        self.interv_targets_.append(interventions)\n",
    "        \n",
    "    def get_mec_dags(self):\n",
    "        if len(self.interv_targets_) == 1:\n",
    "            return cpdag2dags(dag2cpdag(self.dag))\n",
    "        else:\n",
    "            min_cpdag = (-self.union_cpdag_ <= np.min(-self.union_cpdag_)).astype(int)\n",
    "            return cpdag2dags(min_cpdag)\n",
    "        \n",
    "    def get_mec_cpdag(self):\n",
    "        if len(self.interv_targets_) == 1:\n",
    "            return dag2cpdag(self.dag)\n",
    "        else:\n",
    "            min_cpdag = (-self.union_cpdag_ <= np.min(-self.union_cpdag_)).astype(int)\n",
    "            return min_cpdag"
   ]
  },
  {
   "cell_type": "code",
   "execution_count": 224,
   "metadata": {},
   "outputs": [],
   "source": [
    "def get_tpr(true_dag, cpdag):\n",
    "    np.testing.assert_array_equal(true_dag, np.tril(true_dag))\n",
    "    tp = len(np.where((true_dag + cpdag - cpdag.T) == 2)[0])\n",
    "    n_edges = np.sum(true_dag)\n",
    "    return tp / n_edges\n",
    "\n",
    "def get_fpr(true_dag, cpdag):\n",
    "    np.testing.assert_array_equal(true_dag, np.tril(true_dag))\n",
    "    fp = len(np.where((true_dag + cpdag.T - cpdag) == 2)[0])\n",
    "    n_edges = np.sum(true_dag)\n",
    "    return fp / n_edges"
   ]
  },
  {
   "cell_type": "code",
   "execution_count": 234,
   "metadata": {},
   "outputs": [
    {
     "name": "stdout",
     "output_type": "stream",
     "text": [
      "Pairwise\n",
      "6\n",
      "6\n",
      "Full\n",
      "6\n",
      "6\n"
     ]
    }
   ],
   "source": [
    "dag = np.asarray([[0, 0, 0], [1, 0 ,0], [1, 1, 0]])\n",
    "\n",
    "print('Pairwise')\n",
    "ppc = PairwisePC(dag)\n",
    "ppc.add_domain([0, 1, 2])\n",
    "print(len(ppc.get_mec_dags()))\n",
    "ppc.add_domain([0, 1, 2])\n",
    "print(len(ppc.get_mec_dags()))\n",
    "\n",
    "print('Full')\n",
    "fpc = FullPC(dag)\n",
    "fpc.add_domain([0, 1, 2])\n",
    "print(len(fpc.get_mec_dags()))\n",
    "fpc.add_domain([0, 1, 2])\n",
    "print(len(fpc.get_mec_dags()))"
   ]
  },
  {
   "cell_type": "code",
   "execution_count": 251,
   "metadata": {},
   "outputs": [
    {
     "name": "stderr",
     "output_type": "stream",
     "text": [
      "/Users/rflperry/opt/miniconda3/envs/causal/lib/python3.8/site-packages/graphical_models/custom_types.py:13: UserWarning: [Need name!] still needs to be tested. If you intend to use this method, please submit a pull request.\n",
      "  warn(s)\n"
     ]
    }
   ],
   "source": [
    "results_mat = []\n",
    "n_environments = 15\n",
    "n_reps = 100\n",
    "dag = np.asarray([[0, 0, 0], [1, 0 ,0], [1, 1, 0]])\n",
    "\n",
    "for rep in range(n_reps):\n",
    "    for sparsity in [1, 2, 3]:\n",
    "        fpc = FullPC(dag)    \n",
    "        ppc = PairwisePC(dag)\n",
    "        for n_env in range(1, n_environments+1):\n",
    "            interventions = np.random.choice(3, sparsity, replace=False)\n",
    "            fpc.add_domain(interventions)\n",
    "            ppc.add_domain(interventions)\n",
    "            \n",
    "            cpdag = fpc.get_mec_cpdag()\n",
    "            results_mat.append([\n",
    "                rep, 'PC (pool all)', sparsity, n_env, len(fpc.get_mec_dags()), get_tpr(dag, cpdag), get_fpr(dag, cpdag)\n",
    "            ])\n",
    "\n",
    "            cpdag = ppc.get_mec_cpdag()\n",
    "            results_mat.append([\n",
    "                rep, 'PC (pool pairwise)', sparsity, n_env, len(ppc.get_mec_dags()), get_tpr(dag, cpdag), get_fpr(dag, cpdag)\n",
    "            ])"
   ]
  },
  {
   "cell_type": "code",
   "execution_count": 252,
   "metadata": {},
   "outputs": [],
   "source": [
    "df = pd.DataFrame(\n",
    "    results_mat,\n",
    "    columns=[\n",
    "        'Rep', 'Method', 'Sparsity', 'Number of environments',\n",
    "        'Number of possible DAGs', 'True positive rate', 'False positive rate'\n",
    "    ])"
   ]
  },
  {
   "cell_type": "code",
   "execution_count": 253,
   "metadata": {},
   "outputs": [
    {
     "data": {
      "image/png": "[encoded data removed]",
      "text/plain": [
       "<Figure size 432x216 with 1 Axes>"
      ]
     },
     "metadata": {
      "needs_background": "light"
     },
     "output_type": "display_data"
    }
   ],
   "source": [
    "plt.figure(figsize=(6, 3))\n",
    "sns.lineplot(\n",
    "    data=df,\n",
    "    x='Number of environments',\n",
    "    y='Number of possible DAGs',\n",
    "    hue='Method',\n",
    "    style='Sparsity',\n",
    "    ci=None,\n",
    "    # palette='gist_heat'\n",
    ")\n",
    "plt.title('Pairwise comparisons are informative under sparse changes')\n",
    "plt.tight_layout()\n",
    "plt.savefig('./figures/pairwise_oracle_pc_simulation.pdf')\n",
    "plt.show()"
   ]
  },
  {
   "cell_type": "code",
   "execution_count": null,
   "metadata": {},
   "outputs": [],
   "source": []
  }
 ],
 "metadata": {
  "kernelspec": {
   "display_name": "Python (causal)",
   "language": "python",
   "name": "causal"
  },
  "language_info": {
   "codemirror_mode": {
    "name": "ipython",
    "version": 3
   },
   "file_extension": ".py",
   "mimetype": "text/x-python",
   "name": "python",
   "nbconvert_exporter": "python",
   "pygments_lexer": "ipython3",
   "version": "3.8.13"
  }
 },
 "nbformat": 4,
 "nbformat_minor": 4
}
