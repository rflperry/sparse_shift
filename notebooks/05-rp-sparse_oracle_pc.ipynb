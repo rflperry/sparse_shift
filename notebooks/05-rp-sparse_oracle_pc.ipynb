{
 "cells": [
  {
   "cell_type": "code",
   "execution_count": 1,
   "metadata": {},
   "outputs": [],
   "source": [
    "import numpy as np\n",
    "import pandas as pd\n",
    "import seaborn as sns\n",
    "import matplotlib.pyplot as plt"
   ]
  },
  {
   "cell_type": "markdown",
   "metadata": {},
   "source": [
    "# Experiment\n",
    "\n",
    "We asume the triangle DAG with edges\n",
    "1. X1 -> X2\n",
    "2. X2 -> X3\n",
    "3. X1 -> X3\n",
    "\n",
    "which we know up to its Markov equivalence class but obtain natural interventions on variables with some degree of sparsity.\n",
    "\n",
    "We begin with a domain of the original graph, then sample additional domans with some number of interventions. We either then pool all together, or consider pairwise pooling taking the union across pools."
   ]
  },
  {
   "cell_type": "code",
   "execution_count": 18,
   "metadata": {},
   "outputs": [],
   "source": [
    "# Meeks rules giving the oritentations are commented above\n",
    "intervention_dict = {\n",
    "    # 2 v-structures\n",
    "    (1,): [1, 3],\n",
    "    # 2 v-structure, acyclic\n",
    "    (2,): [1, 2, 3],\n",
    "    # 2 v-structures\n",
    "    (3,): [2, 3],\n",
    "    # 2 v-structures\n",
    "    (1, 2): [2, 3],\n",
    "    # 2 v-structures\n",
    "    (2, 3): [1, 3],\n",
    "    # 2 v-structures, acyclic\n",
    "    (1, 3): [1, 2, 3],\n",
    "    # Nothing\n",
    "    (1, 2, 3): [],\n",
    "}"
   ]
  },
  {
   "cell_type": "code",
   "execution_count": 19,
   "metadata": {},
   "outputs": [],
   "source": [
    "class FullPC:\n",
    "    def __init__(self):\n",
    "        self.domains_ = []\n",
    "        self.interv_edges_ = set()\n",
    "        \n",
    "    def add_domain(self, interventions):\n",
    "        self.interv_edges_.update(interventions)\n",
    "        self.domains_.append(interventions)\n",
    "        \n",
    "    def get_learned_edges(self):\n",
    "        return intervention_dict[tuple(sorted(self.interv_edges_))]\n",
    "    \n",
    "class PairwisePC:\n",
    "    def __init__(self):\n",
    "        self.domains_ = []\n",
    "        self.learned_edges_ = []\n",
    "\n",
    "    def add_domain(self, interventions):\n",
    "        self.learned_edges_.append(intervention_dict[tuple(sorted(interventions))])\n",
    "        \n",
    "        for prior_domain in self.domains_:\n",
    "            self.learned_edges_.append(intervention_dict[tuple(\n",
    "                sorted(np.unique(np.hstack((prior_domain, interventions))))\n",
    "            )])\n",
    "        \n",
    "        self.domains_.append(interventions)\n",
    "        \n",
    "    def get_learned_edges(self):\n",
    "        return np.unique(np.hstack(self.learned_edges_)).astype(int)"
   ]
  },
  {
   "cell_type": "code",
   "execution_count": 20,
   "metadata": {},
   "outputs": [
    {
     "name": "stdout",
     "output_type": "stream",
     "text": [
      "Pairwise\n",
      "[1 2 3]\n",
      "[1 2 3]\n",
      "Full\n",
      "[1, 2, 3]\n",
      "[1, 3]\n"
     ]
    }
   ],
   "source": [
    "print('Pairwise')\n",
    "fpc = PairwisePC()\n",
    "fpc.add_domain([2])\n",
    "print(fpc.get_learned_edges())\n",
    "fpc.add_domain([3])\n",
    "print(fpc.get_learned_edges())\n",
    "\n",
    "print('Full')\n",
    "fpc = FullPC()\n",
    "fpc.add_domain([2])\n",
    "print(fpc.get_learned_edges())\n",
    "fpc.add_domain([3])\n",
    "print(fpc.get_learned_edges())"
   ]
  },
  {
   "cell_type": "markdown",
   "metadata": {},
   "source": [
    "## Experiments"
   ]
  },
  {
   "cell_type": "code",
   "execution_count": 33,
   "metadata": {},
   "outputs": [],
   "source": [
    "results_mat = []\n",
    "n_environments = 15\n",
    "n_reps = 200\n",
    "\n",
    "for rep in range(n_reps):\n",
    "    for sparsity in [1, 2, 3]:\n",
    "        fpc = FullPC()    \n",
    "        ppc = PairwisePC()\n",
    "        for n_env in range(2, n_environments+1):\n",
    "            interventions = tuple(np.random.choice([1, 2, 3], sparsity, replace=False))\n",
    "            fpc.add_domain(interventions)\n",
    "            ppc.add_domain(interventions)\n",
    "            results_mat.append([\n",
    "                rep, 'Full PC', sparsity, n_env, len(fpc.get_learned_edges()) / 3\n",
    "            ])\n",
    "            results_mat.append([\n",
    "                rep, 'Pairwise PC', sparsity, n_env, len(ppc.get_learned_edges()) / 3\n",
    "            ])"
   ]
  },
  {
   "cell_type": "code",
   "execution_count": 34,
   "metadata": {},
   "outputs": [],
   "source": [
    "df = pd.DataFrame(\n",
    "    results_mat,\n",
    "    columns=['Rep', 'Method', 'Sparsity', 'Number of environments', 'Fraction of MEC learned'])"
   ]
  },
  {
   "cell_type": "code",
   "execution_count": 35,
   "metadata": {},
   "outputs": [
    {
     "data": {
      "image/png": "[encoded data removed]",
      "text/plain": [
       "<Figure size 432x216 with 1 Axes>"
      ]
     },
     "metadata": {
      "needs_background": "light"
     },
     "output_type": "display_data"
    }
   ],
   "source": [
    "plt.figure(figsize=(6, 3))\n",
    "sns.lineplot(\n",
    "    data=df,\n",
    "    x='Number of environments',\n",
    "    y='Fraction of MEC learned',\n",
    "    hue='Method',\n",
    "    style='Sparsity',\n",
    "    ci=None,\n",
    "    # palette='gist_heat'\n",
    ")\n",
    "plt.title('Pairwise comparisons are informative under sparse changes')\n",
    "plt.tight_layout()\n",
    "plt.savefig('./figures/pairwise_oracle_pc_simulation.pdf')\n",
    "plt.show()"
   ]
  },
  {
   "cell_type": "code",
   "execution_count": null,
   "metadata": {},
   "outputs": [],
   "source": []
  }
 ],
 "metadata": {
  "kernelspec": {
   "display_name": "Python (kcd)",
   "language": "python",
   "name": "kcd"
  },
  "language_info": {
   "codemirror_mode": {
    "name": "ipython",
    "version": 3
   },
   "file_extension": ".py",
   "mimetype": "text/x-python",
   "name": "python",
   "nbconvert_exporter": "python",
   "pygments_lexer": "ipython3",
   "version": "3.8.12"
  }
 },
 "nbformat": 4,
 "nbformat_minor": 4
}
