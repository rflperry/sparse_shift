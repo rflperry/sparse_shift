{
 "cells": [
  {
   "cell_type": "markdown",
   "id": "97f90f11",
   "metadata": {},
   "source": [
    "## Kernel Conditional Discrepancy Test: a replication\n",
    "Replicates the simulation analysis from Park et al. 2021"
   ]
  },
  {
   "cell_type": "code",
   "execution_count": 6,
   "id": "5981a481",
   "metadata": {
    "tags": []
   },
   "outputs": [],
   "source": [
    "import numpy as np\n",
    "import matplotlib.pyplot as plt\n",
    "from sparse_shift import KCD, KCDCV\n",
    "import warnings\n",
    "# warnings.filterwarnings(\"ignore\")"
   ]
  },
  {
   "cell_type": "markdown",
   "id": "66a6e0c7",
   "metadata": {},
   "source": [
    "## Simulated data setup"
   ]
  },
  {
   "cell_type": "code",
   "execution_count": 7,
   "id": "83616061",
   "metadata": {},
   "outputs": [],
   "source": [
    "def sample_toy_data(n):\n",
    "    X = np.random.uniform(0, 1, (n, 1))\n",
    "    \n",
    "    X_below = (X < 0.3)[:, 0]\n",
    "    X_above = (X >= 0.3)[:, 0]\n",
    "    y0 = 3 + 5*X[:, 0] + X_below * np.random.normal(0, 1, (n)) + X_above * np.random.normal(\n",
    "        0, np.abs((1 + 7 * (X[:, 0] - 0.3))), (n))\n",
    "    y1 = 4*X[:, 0] + X_below * np.random.normal(0, 1, (n)) + X_above * np.random.normal(\n",
    "        0, np.abs((1 + 7 * (X[:, 0] - 0.3))), (n))\n",
    "    \n",
    "    return X, np.vstack((y0, y1)).T"
   ]
  },
  {
   "cell_type": "markdown",
   "id": "3f349b2e",
   "metadata": {},
   "source": [
    "## Hypothesis Tests under the null and alternative"
   ]
  },
  {
   "cell_type": "code",
   "execution_count": 8,
   "id": "34f610a6",
   "metadata": {},
   "outputs": [],
   "source": [
    "n = 100\n",
    "n_reps = 100 # 1000\n",
    "n_power_reps = 10 # 100\n",
    "stats = {'Y0': [], 'Y1': [], 'Y01': []}\n",
    "pvalues = {'Y0': [], 'Y1': [], 'Y01': []}\n",
    "\n",
    "# Pvalues\n",
    "for i in range(n_power_reps):\n",
    "    np.random.seed(i)\n",
    "    X, y_outcomes = sample_toy_data(n)\n",
    "    z = np.random.choice(2, (n))\n",
    "    y = np.asarray([outcomes[i] for outcomes, i in zip(y_outcomes, z)])\n",
    "    # kcd01 = KCD(reg=1.0, n_jobs=10)\n",
    "    # kcd0 = KCD(reg=1.0, n_jobs=10)\n",
    "    # kcd1 = KCD(reg=1.0, n_jobs=10)\n",
    "    kcd01 = KCDCV(n_jobs=-2, regs=[1.0])\n",
    "    kcd0 = KCDCV(n_jobs=-2, regs=[1.0])\n",
    "    kcd1 = KCDCV(n_jobs=-2, regs=[1.0])\n",
    "\n",
    "    stat, pvalue = kcd.test(X, y, z, reps=n_reps)\n",
    "    stats['Y01'].append(stat)\n",
    "    pvalues['Y01'].append(pvalue)\n",
    "    \n",
    "    stat, pvalue = kcd.test(X, y_outcomes[:, 0], z, reps=n_reps)\n",
    "    stats['Y0'].append(stat)\n",
    "    pvalues['Y0'].append(pvalue)\n",
    "    \n",
    "    stat, pvalue = kcd.test(X, y_outcomes[:, 1], z, reps=n_reps)\n",
    "    stats['Y1'].append(stat)\n",
    "    pvalues['Y1'].append(pvalue)"
   ]
  },
  {
   "cell_type": "markdown",
   "id": "df6d7a3e",
   "metadata": {},
   "source": [
    "## Application of the witness function"
   ]
  },
  {
   "cell_type": "code",
   "execution_count": 106,
   "id": "dbff5e99",
   "metadata": {},
   "outputs": [],
   "source": [
    "np.random.seed(100)\n",
    "n = 1000\n",
    "X, y_outcomes = sample_toy_data(n)\n",
    "z = np.random.choice(2, (n))\n",
    "y = np.asarray([outcomes[i] for outcomes, i in zip(y_outcomes, z)])\n",
    "    \n",
    "# Witness function\n",
    "X_lin = np.linspace(0, 1, 1000)\n",
    "Y_lin = np.linspace(-10, 25, 1000)\n",
    "\n",
    "kcd = KCD(reg=1.0, n_jobs=10)\n",
    "witness_mat = kcd.witness(X, y, z, X_lin, Y_lin)"
   ]
  },
  {
   "cell_type": "markdown",
   "id": "3aa60334",
   "metadata": {},
   "source": [
    "## Results"
   ]
  },
  {
   "cell_type": "code",
   "execution_count": 107,
   "id": "6a85df57",
   "metadata": {},
   "outputs": [],
   "source": [
    "fig, axes = plt.subplots(1, 3, figsize=(15, 3))\n",
    "\n",
    "# Raw data and mean trend lines\n",
    "ax = axes[0]\n",
    "ax.set_ylabel('Y')\n",
    "ax.set_xlabel('X')\n",
    "ax.set_title('(a) Data')\n",
    "ax.scatter(X[:, 0], y_outcomes[:, 0], label=r'$Y_0$', c='blue', marker='x', alpha=0.2)\n",
    "ax.plot(\n",
    "    np.linspace(0, 1, 10), 3+5*np.linspace(0, 1, 10),\n",
    "    label=r'$E[Y_0|X]$', c='darkblue', linewidth=2, ls='-')\n",
    "ax.scatter(X[:, 0], y_outcomes[:, 1], label=r'$Y_1$', c='orange', marker='o', alpha=0.2)\n",
    "ax.plot(\n",
    "    np.linspace(0, 1, 10), 4*np.linspace(0, 1, 10),\n",
    "    label=r'$E[Y_1|X]$', c='orangered', linewidth=2, ls='-')\n",
    "ax.legend(loc='upper left')\n",
    "\n",
    "# Hypothesis test results\n",
    "ax = axes[1]\n",
    "ax.set_ylabel('Proportion of tests rejected')\n",
    "ax.set_xlabel('Hypothesis')\n",
    "ax.set_title('(b) Hypothesis Test')\n",
    "\n",
    "alpha = 0.05\n",
    "ax.bar(\n",
    "    [1, 2, 3],\n",
    "    [np.mean(np.asarray(pvalues['Y0']) <= alpha),\n",
    "     np.mean(np.asarray(pvalues['Y1']) <= alpha),\n",
    "     np.mean(np.asarray(pvalues['Y01']) <= alpha)],\n",
    "    align='center')\n",
    "ax.set_xticks([1, 2, 3])\n",
    "ax.set_xticklabels([\n",
    "    r'$P_{Y_0|X}$ vs $P_{Y_0|X}$',\n",
    "    r'$P_{Y_1|X}$ vs $P_{Y_1|X}$',\n",
    "    r'$P_{Y_0|X}$ vs $P_{Y_1|X}$'])\n",
    "\n",
    "# Witness function\n",
    "ax = axes[2]\n",
    "ax.set_ylabel('Y')\n",
    "ax.set_xlabel('X')\n",
    "ax.set_title('(c) Conditional Witness Function')\n",
    "cm = ax.pcolormesh(X_lin, Y_lin, witness_mat, cmap='magma')\n",
    "fig.colorbar(cm, ax=ax)\n",
    "\n",
    "plt.show()"
   ]
  },
  {
   "cell_type": "code",
   "execution_count": null,
   "metadata": {},
   "outputs": [],
   "source": []
  }
 ],
 "metadata": {
  "kernelspec": {
   "display_name": "Python (kcd)",
   "language": "python",
   "name": "kcd"
  },
  "language_info": {
   "codemirror_mode": {
    "name": "ipython",
    "version": 3
   },
   "file_extension": ".py",
   "mimetype": "text/x-python",
   "name": "python",
   "nbconvert_exporter": "python",
   "pygments_lexer": "ipython3",
   "version": "3.8.12-final"
  }
 },
 "nbformat": 4,
 "nbformat_minor": 5
}