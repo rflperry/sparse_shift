{
 "cells": [
  {
   "cell_type": "code",
   "execution_count": 9,
   "id": "9eea0934",
   "metadata": {},
   "outputs": [],
   "source": [
    "import pandas as pd\n",
    "import numpy as np"
   ]
  },
  {
   "cell_type": "code",
   "execution_count": 3,
   "id": "049a378c",
   "metadata": {},
   "outputs": [],
   "source": [
    "df = pd.read_csv('../data/insilico_size10_1_wildtype.tsv', sep='\\t')"
   ]
  },
  {
   "cell_type": "code",
   "execution_count": 6,
   "id": "278270c2",
   "metadata": {},
   "outputs": [
    {
     "data": {
      "text/html": [
       "<div>\n",
       "<style scoped>\n",
       "    .dataframe tbody tr th:only-of-type {\n",
       "        vertical-align: middle;\n",
       "    }\n",
       "\n",
       "    .dataframe tbody tr th {\n",
       "        vertical-align: top;\n",
       "    }\n",
       "\n",
       "    .dataframe thead th {\n",
       "        text-align: right;\n",
       "    }\n",
       "</style>\n",
       "<table border=\"1\" class=\"dataframe\">\n",
       "  <thead>\n",
       "    <tr style=\"text-align: right;\">\n",
       "      <th></th>\n",
       "      <th>G1</th>\n",
       "      <th>G2</th>\n",
       "      <th>G3</th>\n",
       "      <th>G4</th>\n",
       "      <th>G5</th>\n",
       "      <th>G6</th>\n",
       "      <th>G7</th>\n",
       "      <th>G8</th>\n",
       "      <th>G9</th>\n",
       "      <th>G10</th>\n",
       "    </tr>\n",
       "  </thead>\n",
       "  <tbody>\n",
       "    <tr>\n",
       "      <th>0</th>\n",
       "      <td>0.604682</td>\n",
       "      <td>0.123171</td>\n",
       "      <td>0.328794</td>\n",
       "      <td>0.604783</td>\n",
       "      <td>0.146485</td>\n",
       "      <td>0.325877</td>\n",
       "      <td>0.496733</td>\n",
       "      <td>0.649627</td>\n",
       "      <td>0.614085</td>\n",
       "      <td>0.748179</td>\n",
       "    </tr>\n",
       "  </tbody>\n",
       "</table>\n",
       "</div>"
      ],
      "text/plain": [
       "         G1        G2        G3        G4        G5        G6        G7  \\\n",
       "0  0.604682  0.123171  0.328794  0.604783  0.146485  0.325877  0.496733   \n",
       "\n",
       "         G8        G9       G10  \n",
       "0  0.649627  0.614085  0.748179  "
      ]
     },
     "execution_count": 6,
     "metadata": {},
     "output_type": "execute_result"
    }
   ],
   "source": [
    "df"
   ]
  },
  {
   "cell_type": "code",
   "execution_count": 12,
   "id": "ec8514cb",
   "metadata": {},
   "outputs": [],
   "source": [
    "from sparse_shift.utils import dag2cpdag, cpdag2dags\n",
    "from sparse_shift.plotting import plot_dag"
   ]
  },
  {
   "cell_type": "code",
   "execution_count": 10,
   "id": "14a4d191",
   "metadata": {},
   "outputs": [],
   "source": [
    "# PHC ! ERC, PRC ! ERC, ERC ! CA3/DG, CA3/DG ! CA1, CA1 ! Sub, Sub ! ERC, and ERC ! CA1\n",
    "# PHC, ERC, PRC, CA3/DG, CA1, Sub\n",
    "dag = np.zeros((6, 6))\n",
    "dag[0, 1] = 1\n",
    "dag[2, 1] = 1\n",
    "dag[1, 3] = 1\n",
    "dag[3, 4] = 1\n",
    "dag[4, 5] = 1\n",
    "dag[5, 1] = 1\n",
    "dag[1, 4] = 1"
   ]
  },
  {
   "cell_type": "code",
   "execution_count": 13,
   "id": "8aaad5a1",
   "metadata": {},
   "outputs": [
    {
     "ename": "AssertionError",
     "evalue": "",
     "output_type": "error",
     "traceback": [
      "\u001b[0;31m---------------------------------------------------------------------------\u001b[0m",
      "\u001b[0;31mAssertionError\u001b[0m                            Traceback (most recent call last)",
      "Input \u001b[0;32mIn [13]\u001b[0m, in \u001b[0;36m<cell line: 1>\u001b[0;34m()\u001b[0m\n\u001b[0;32m----> 1\u001b[0m \u001b[43mplot_dag\u001b[49m\u001b[43m(\u001b[49m\u001b[43mdag\u001b[49m\u001b[43m)\u001b[49m\n",
      "File \u001b[0;32m~/Documents/MPI/sparse_shift/sparse_shift/plotting.py:24\u001b[0m, in \u001b[0;36mplot_dag\u001b[0;34m(adj, topological_sort, parent_adj, layout, figsize, title, highlight_nodes, highlight_edges, labels)\u001b[0m\n\u001b[1;32m     21\u001b[0m     adj \u001b[38;5;241m=\u001b[39m adj\u001b[38;5;241m.\u001b[39mT\n\u001b[1;32m     23\u001b[0m G \u001b[38;5;241m=\u001b[39m nx\u001b[38;5;241m.\u001b[39mconvert_matrix\u001b[38;5;241m.\u001b[39mfrom_numpy_matrix(adj, create_using\u001b[38;5;241m=\u001b[39mnx\u001b[38;5;241m.\u001b[39mDiGraph)\n\u001b[0;32m---> 24\u001b[0m \u001b[38;5;28;01massert\u001b[39;00m nx\u001b[38;5;241m.\u001b[39mis_directed_acyclic_graph(G)\n\u001b[1;32m     26\u001b[0m \u001b[38;5;28;01mif\u001b[39;00m layout \u001b[38;5;241m==\u001b[39m \u001b[38;5;124m\"\u001b[39m\u001b[38;5;124mcircular\u001b[39m\u001b[38;5;124m\"\u001b[39m:\n\u001b[1;32m     27\u001b[0m     pos \u001b[38;5;241m=\u001b[39m nx\u001b[38;5;241m.\u001b[39mcircular_layout(G)\n",
      "\u001b[0;31mAssertionError\u001b[0m: "
     ]
    }
   ],
   "source": [
    "plot_dag(dag)a"
   ]
  },
  {
   "cell_type": "code",
   "execution_count": 14,
   "id": "293ad66c",
   "metadata": {},
   "outputs": [
    {
     "data": {
      "text/plain": [
       "array([[0., 1., 0., 0., 0., 0.],\n",
       "       [0., 0., 0., 1., 1., 0.],\n",
       "       [0., 1., 0., 0., 0., 0.],\n",
       "       [0., 0., 0., 0., 1., 0.],\n",
       "       [0., 0., 0., 0., 0., 1.],\n",
       "       [0., 1., 0., 0., 0., 0.]])"
      ]
     },
     "execution_count": 14,
     "metadata": {},
     "output_type": "execute_result"
    }
   ],
   "source": [
    "dag"
   ]
  },
  {
   "cell_type": "code",
   "execution_count": null,
   "id": "6ae226b9",
   "metadata": {},
   "outputs": [],
   "source": []
  }
 ],
 "metadata": {
  "kernelspec": {
   "display_name": "Python (causal)",
   "language": "python",
   "name": "causal"
  },
  "language_info": {
   "codemirror_mode": {
    "name": "ipython",
    "version": 3
   },
   "file_extension": ".py",
   "mimetype": "text/x-python",
   "name": "python",
   "nbconvert_exporter": "python",
   "pygments_lexer": "ipython3",
   "version": "3.8.13"
  }
 },
 "nbformat": 4,
 "nbformat_minor": 5
}
